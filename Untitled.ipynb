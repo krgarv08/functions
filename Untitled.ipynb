{
 "cells": [
  {
   "cell_type": "markdown",
   "id": "f6caf0b5-6d95-44d4-b64a-ab940dbabb15",
   "metadata": {},
   "source": [
    "#### 1. What is the difference between a function and a method in Python?"
   ]
  },
  {
   "cell_type": "markdown",
   "id": "01cbac4c-db02-49a4-845d-e59aef59dad5",
   "metadata": {},
   "source": [
    "Function and method both is used to perform action but they are different with respect to how they are called.\n",
    "\n",
    " A function is a block of reusable code that performs a specific task while  method is a function that is associated with an object. \n",
    "\n",
    " \n",
    "function is defined using the def keyword and called independently, using its name.\n",
    "\n",
    "e.g.\n",
    "def greet(name):\n",
    "    return f\"Hello, {name}!\"\n",
    "print(greet(\"Garv\"))\n",
    "\n",
    "Method is always defined inside a class and called on an object (instance) of the class, and it automatically receives the object as the first argument (usually self).\n",
    "\n",
    "e.g. \n",
    "class Person:\n",
    "    def greet(self, name):\n",
    "        return f\"Hello, {name}!\"\n",
    "\n",
    "p = Person()\n",
    "print(p.greet(\"Garv\"))\n"
   ]
  },
  {
   "cell_type": "code",
   "execution_count": null,
   "id": "67c24f05-5da1-4248-9ff5-8e53f8871166",
   "metadata": {},
   "outputs": [],
   "source": []
  },
  {
   "cell_type": "markdown",
   "id": "817883df-e72a-4d90-b523-a147c9e23278",
   "metadata": {},
   "source": []
  },
  {
   "cell_type": "markdown",
   "id": "7d76e363-dffd-4043-8f66-184b9df33c28",
   "metadata": {},
   "source": [
    "#### 2. Explain the concept of function arguments and parameters in Python."
   ]
  },
  {
   "cell_type": "markdown",
   "id": "ca13d2d1-c54c-4ed2-aa6a-622acfde3aa5",
   "metadata": {},
   "source": [
    "----->Parameters are the variables listed inside the parentheses in a function definition.\n",
    "They are placeholders for the values the function will receive.\n",
    "\n",
    "def greet(name):  --------> here 'name' is a parameter\n",
    "    print(\"asdada\", name)\n",
    "\n",
    "----> Arguments are the actual values you pass into a function when you call it.\n",
    "\n",
    "\n",
    "greet(\"PWallah----> here \"PWallah\" is the argument\n",
    "\n",
    "---->Parameter = input slot\n",
    "---->Argument = item one put into the slot\n"
   ]
  },
  {
   "cell_type": "code",
   "execution_count": null,
   "id": "d1ffb036-6699-4228-a36e-a04e85bf3cf4",
   "metadata": {},
   "outputs": [],
   "source": []
  },
  {
   "cell_type": "markdown",
   "id": "271a5be2-fe0a-4378-b297-5cc263a8d9fb",
   "metadata": {},
   "source": []
  },
  {
   "cell_type": "markdown",
   "id": "9d07740a-03ee-41a5-9f20-d33577d29ae0",
   "metadata": {},
   "source": [
    "#### 3. What are the different ways to define and call a function in Python?"
   ]
  },
  {
   "cell_type": "markdown",
   "id": "216691c6-41b0-4d5d-b4ce-67c01b4fcdd3",
   "metadata": {},
   "source": [
    "Functions are defined using the def keyword, followed by the function name and parentheses. They are called by writing the function name followed by parentheses containing arguments. These are standard function.\n",
    "----> Functions can be also be defined inside another function called Nested function\n",
    "eg. def out1():\n",
    "    def in1():\n",
    "        return \"Inside inner function\"\n",
    "    return in1()\n",
    "    \n",
    "------> Function with Variable-length Arguments\n",
    "*args allows a function to accept any number of positional arguments.\n",
    "**kwargs allows a function to accept any number of keyword arguments.\n",
    "\n",
    "------> Functions can be called using positional arguments (based on order) or keyword arguments (explicitly assigning values to parameter names).\n",
    "\n",
    "-------> Lambda (Anonymous) Function\n",
    "Lambda functions are single-expression functions defined using the lambda keyword. They are generally used for short, simple operations.\n",
    "\n",
    "\n",
    "There are other ways aslo of defining function  such as Reduce(), inside class method etc.\n"
   ]
  },
  {
   "cell_type": "code",
   "execution_count": 5,
   "id": "620d1b3e-ee98-460f-838d-1bb01ecf9139",
   "metadata": {},
   "outputs": [],
   "source": [
    "sq = lambda x: x * x  #lamda funcion"
   ]
  },
  {
   "cell_type": "code",
   "execution_count": 6,
   "id": "f806dda5-d9e1-41be-90f8-94365783f057",
   "metadata": {},
   "outputs": [
    {
     "data": {
      "text/plain": [
       "100"
      ]
     },
     "execution_count": 6,
     "metadata": {},
     "output_type": "execute_result"
    }
   ],
   "source": [
    "sq(10)"
   ]
  },
  {
   "cell_type": "code",
   "execution_count": 8,
   "id": "6e008c4a-3c90-46cd-a404-9f361d7a163b",
   "metadata": {},
   "outputs": [
    {
     "name": "stdout",
     "output_type": "stream",
     "text": [
      "6\n"
     ]
    }
   ],
   "source": [
    "#variable length\n",
    "def add(*num):\n",
    "    return sum(num)\n",
    "\n",
    "print(add(1, 2, 3))"
   ]
  },
  {
   "cell_type": "code",
   "execution_count": 10,
   "id": "20a92064-e399-4447-80d6-2ee10d99cb9e",
   "metadata": {},
   "outputs": [
    {
     "name": "stdout",
     "output_type": "stream",
     "text": [
      "name: Garv\n",
      "age: 21\n",
      "course: blk\n"
     ]
    }
   ],
   "source": [
    "#variable keyword arguments\n",
    "def info(**details):\n",
    "    for key, value in details.items():\n",
    "        print(f\"{key}: {value}\")\n",
    "\n",
    "info(name=\"Garv\", age=21, course=\"blk\")\n"
   ]
  },
  {
   "cell_type": "code",
   "execution_count": null,
   "id": "1d2b831a-9d10-441e-b7c5-d7b3cf9070aa",
   "metadata": {},
   "outputs": [],
   "source": []
  },
  {
   "cell_type": "code",
   "execution_count": null,
   "id": "f9b76c6e-edf3-4cf5-b10e-a48c2fa79c68",
   "metadata": {},
   "outputs": [],
   "source": []
  },
  {
   "cell_type": "markdown",
   "id": "f22e13ca-c807-44c4-96b0-6087de5420fe",
   "metadata": {},
   "source": [
    "#### 4. What is the purpose of the `return` statement in a Python function?"
   ]
  },
  {
   "cell_type": "markdown",
   "id": "f7d60363-9458-4327-9fab-60bb88baa6a7",
   "metadata": {},
   "source": [
    "The return statement in a Python function is used to:\n",
    "1. Send a Result Back to the Caller\n",
    "2. End Function Execution\n",
    "3. Return Multiple Values i.e Python functions can return multiple values as a tuple using a single return statement.\n",
    "4. Optional Use i.e if no return statement is used, the function returns None by default."
   ]
  },
  {
   "cell_type": "code",
   "execution_count": null,
   "id": "ba768695-e3ee-453b-806a-944d8b1e4baf",
   "metadata": {},
   "outputs": [],
   "source": []
  },
  {
   "cell_type": "code",
   "execution_count": null,
   "id": "f9365aed-742e-4ea6-92a7-0edde6f12432",
   "metadata": {},
   "outputs": [],
   "source": []
  },
  {
   "cell_type": "markdown",
   "id": "ec6c950c-a032-4706-86c2-ecdf33d56fac",
   "metadata": {},
   "source": [
    "#### 5. What are iterators in Python and how do they differ from iterables?"
   ]
  },
  {
   "cell_type": "markdown",
   "id": "3599a1a0-e268-4421-add1-2ae753b5d426",
   "metadata": {},
   "source": [
    "An iterator is an object that represents a stream of data and returns elements one at a time when the next() function is called. It implements two special methods:\n",
    "iter() – returns the iterator object itself1\n",
    "next() – returns the next element in the sequence\n",
    "\n",
    "Iterables\n",
    "An iterable is any Python object that can be looped over (iterated). It contains a sequence of elements and implements the iter() method, which returns an iterator. Common examples of iterables include lists, tuples, strings, dictionaries, and sets.\n",
    "\n",
    "Difference Between Iterable and Iterator\n",
    "----->An iterable can be converted into an iterator using the built-in iter() function.\n",
    "----->Iterators are used to fetch values one at a time using the next() function.\n",
    "----->All iterators are also iterables, but not all iterables are iterators."
   ]
  },
  {
   "cell_type": "code",
   "execution_count": null,
   "id": "63230000-f5fb-444e-b763-9870a4435447",
   "metadata": {},
   "outputs": [],
   "source": []
  },
  {
   "cell_type": "code",
   "execution_count": null,
   "id": "d782ecf8-4216-478b-a4eb-db62369210bc",
   "metadata": {},
   "outputs": [],
   "source": []
  },
  {
   "cell_type": "markdown",
   "id": "8b0d4ddd-f713-4807-9b42-ea2568d19809",
   "metadata": {},
   "source": [
    "#### 6. Explain the concept of generators in Python and how they are defined."
   ]
  },
  {
   "cell_type": "markdown",
   "id": "fb7d608c-b6a5-412f-bb19-abde14c7f2f1",
   "metadata": {},
   "source": [
    "A generator in Python is a special type of iterator that allows you to iterate over data lazily, meaning it yields items one at a time only as needed, rather than computing and storing all results at once.\n",
    "\n",
    "----->They help save memory when working with large data sets.\n",
    "----->They use the \"yield\" keyword instead of return.\n",
    "----->Each call to the generator resumes from where it last left off.\n",
    "\n",
    "\n"
   ]
  },
  {
   "cell_type": "code",
   "execution_count": 29,
   "id": "8b3e56bc-b64b-4909-b2d8-515a7f46a6de",
   "metadata": {},
   "outputs": [
    {
     "name": "stdout",
     "output_type": "stream",
     "text": [
      "1\n",
      "2\n",
      "3\n",
      "4\n",
      "5\n"
     ]
    }
   ],
   "source": [
    "def count(n):\n",
    "    count = 1\n",
    "    while count <= n:\n",
    "        yield count\n",
    "        count += 1\n",
    "for num in count_up_to(5):\n",
    "    print(num)"
   ]
  },
  {
   "cell_type": "code",
   "execution_count": null,
   "id": "5b5e42fb-7e90-4080-8bbe-6e3aa4d50180",
   "metadata": {},
   "outputs": [],
   "source": []
  },
  {
   "cell_type": "markdown",
   "id": "b4449c02-4169-4ff9-8c6f-2dd8c123d837",
   "metadata": {},
   "source": [
    "#### 7. What are the advantages of using generators over regular functions?"
   ]
  },
  {
   "cell_type": "markdown",
   "id": "25c3ac58-3a89-4d54-b081-38a9f9f8c311",
   "metadata": {},
   "source": [
    "Generators offer several key advantages over regular functions, especially when working with large data sets or streams.\n",
    "\n",
    "1. Memory Efficiency\n",
    "Regular functions often build and return complete data structures (like lists), which consume memory proportional to their size.\n",
    "Generators yield items one at a time, so they don’t need to store the entire result in memory.\n",
    "\n",
    "2. Lazy Evaluation\n",
    "Generators produce items on demand. This means computation is delayed until the value is needed.\n",
    "This makes them ideal for handling infinite sequences, streams, or large datasets.\n",
    "\n",
    "3. Improved Performance\n",
    "Because they yield one item at a time and don't compute the entire result up front, they often have faster startup time than regular functions that return large data structures.\n",
    "\n",
    "4. Cleaner Code for Iteration\n",
    "Generators provide a clean way to write custom iterators without having to implement the __iter__() and __next__() methods manually.\n",
    "\n",
    "5. State Retention\n",
    "Generators automatically save their state between yields. This makes them great for maintaining internal state during complex iterations without using extra variables or data structures.\n",
    "\n",
    "6. Composability\n",
    "Generator functions can be chained together or composed in pipelines, enabling functional-style processing of data."
   ]
  },
  {
   "cell_type": "code",
   "execution_count": null,
   "id": "c3df6041-0815-4d20-8338-21e1a8535018",
   "metadata": {},
   "outputs": [],
   "source": []
  },
  {
   "cell_type": "code",
   "execution_count": null,
   "id": "94461716-6928-4b85-9b04-f9e3606263cb",
   "metadata": {},
   "outputs": [],
   "source": []
  },
  {
   "cell_type": "markdown",
   "id": "d617755f-0388-43be-b2be-4a2b491fe9dd",
   "metadata": {},
   "source": [
    "#### 8. What is a lambda function in Python and when is it typically used?"
   ]
  },
  {
   "cell_type": "markdown",
   "id": "b66c3e35-e112-41c3-aeb7-ffff9345f6ee",
   "metadata": {},
   "source": [
    "A lambda function in Python is a small, anonymous function defined using the lambda keyword instead of the standard def keyword. It is typically used for creating simple functions in a concise way, especially when the function is only needed temporarily and has a single expression.\n",
    "\n",
    "Lambda functions are most commonly used in:\n",
    "Short, simple functions: When a function is very simple and used only once.\n",
    "Functional programming tools: With functions like map(), filter(), and sorted().\n"
   ]
  },
  {
   "cell_type": "code",
   "execution_count": 11,
   "id": "fcca1c44-df0b-487f-8c94-62388dbac259",
   "metadata": {},
   "outputs": [
    {
     "name": "stdout",
     "output_type": "stream",
     "text": [
      "25\n"
     ]
    }
   ],
   "source": [
    "sq = lambda x: x ** 2\n",
    "print(sq(5)) "
   ]
  },
  {
   "cell_type": "code",
   "execution_count": 14,
   "id": "5f69a6a1-da59-4726-b007-21165fa51c91",
   "metadata": {},
   "outputs": [],
   "source": [
    "# with map function\n",
    "nums = [1, 2, 3, 4]\n",
    "sq = list(map(lambda x: x**2, nums)) \n",
    "\n",
    "# Using lambda with filter\n",
    "even_nums = list(filter(lambda x: x % 2 == 0, nums)) \n",
    "\n",
    "# Using lambda with sorted\n",
    "pairs = [(1, 2), (3, 1), (5, 0)]\n",
    "sorted_pairs = sorted(pairs, key=lambda x: x[1])"
   ]
  },
  {
   "cell_type": "code",
   "execution_count": null,
   "id": "9f155669-0df8-441e-8283-1e02d6bd26e5",
   "metadata": {},
   "outputs": [],
   "source": []
  },
  {
   "cell_type": "code",
   "execution_count": null,
   "id": "c05224de-1993-4ceb-ad6f-28f3d2934535",
   "metadata": {},
   "outputs": [],
   "source": []
  },
  {
   "cell_type": "markdown",
   "id": "32c51cfb-bffc-40fa-afc8-fdd98faa2759",
   "metadata": {},
   "source": [
    "#### 9. Explain the purpose and usage of the `map()` function in Python."
   ]
  },
  {
   "cell_type": "markdown",
   "id": "bb8dd3ad-d433-4327-bf0f-b127aa72ac11",
   "metadata": {},
   "source": [
    "The map() function is a built-in Python function used to apply a function to every item in an iterable (like a list, tuple, etc.), returning a map object (an iterator) with the results.\n",
    "\n",
    "Purpose of map()\n",
    "---->To transform elements in a sequence using a function, without writing explicit loops.\n",
    "----->It improves code readability and performance, especially when working with large data sets.\n",
    "\n",
    "Syntax:-\n",
    "map(function, iterable)\n",
    "\n",
    "used to:-"
   ]
  },
  {
   "cell_type": "code",
   "execution_count": 30,
   "id": "76aafc00-eef1-408c-b3a5-628653d06527",
   "metadata": {},
   "outputs": [
    {
     "name": "stdout",
     "output_type": "stream",
     "text": [
      "[1, 4, 9, 16]\n"
     ]
    }
   ],
   "source": [
    "# square a list\n",
    "numbers = [1, 2, 3, 4]\n",
    "squared = map(lambda x: x**2, numbers)\n",
    "print(list(squared))  \n"
   ]
  },
  {
   "cell_type": "code",
   "execution_count": 31,
   "id": "c93daf31-68e5-4e78-ba17-2dcdb3bc18bf",
   "metadata": {},
   "outputs": [
    {
     "name": "stdout",
     "output_type": "stream",
     "text": [
      "['BHUPENDRA', 'GARV', 'PWSKILLS']\n"
     ]
    }
   ],
   "source": [
    "#Convert a list of strings to uppercase\n",
    "words = [\"bhupendra\", \"garv\", \"pwskills\"]\n",
    "uppercased = map(str.upper, words)\n",
    "print(list(uppercased))"
   ]
  },
  {
   "cell_type": "code",
   "execution_count": 32,
   "id": "636825fa-abd2-46a9-b05f-a841326e1aa5",
   "metadata": {},
   "outputs": [
    {
     "name": "stdout",
     "output_type": "stream",
     "text": [
      "[5, 7, 9]\n"
     ]
    }
   ],
   "source": [
    "#Add corresponding elements from two lists\n",
    "a = [1, 2, 3]\n",
    "b = [4, 5, 6]\n",
    "summed = map(lambda x, y: x + y, a, b)\n",
    "print(list(summed))  "
   ]
  },
  {
   "cell_type": "code",
   "execution_count": null,
   "id": "e4b16b0f-d171-4a96-85c1-364df6fe10ab",
   "metadata": {},
   "outputs": [],
   "source": []
  },
  {
   "cell_type": "code",
   "execution_count": null,
   "id": "190c3213-57e8-4b01-8276-99517b43c06e",
   "metadata": {},
   "outputs": [],
   "source": []
  },
  {
   "cell_type": "markdown",
   "id": "97fc8cae-2f4a-484e-baa4-c401dc5a6818",
   "metadata": {},
   "source": [
    "#### 10. What is the difference between `map()`, `reduce()`, and `filter()` functions in Python?"
   ]
  },
  {
   "cell_type": "markdown",
   "id": "576a497c-b4e0-4fb7-bff0-2d8f9e1af6fd",
   "metadata": {},
   "source": [
    "------>map() is used to apply a function to each item in an iterable and return a new iterable (a map object) with the results.\n",
    "It returns mapped object and transformed items."
   ]
  },
  {
   "cell_type": "code",
   "execution_count": 34,
   "id": "fea19580-f380-43bf-b954-6619c3b2d9bf",
   "metadata": {},
   "outputs": [
    {
     "name": "stdout",
     "output_type": "stream",
     "text": [
      "[121, 4, 529, 16, 36, 49, 81, 400]\n"
     ]
    }
   ],
   "source": [
    "numbers = [11, 2,23, 4,6,7,9,20]\n",
    "squared = map(lambda x: x ** 2, numbers)\n",
    "print(list(squared))\n"
   ]
  },
  {
   "cell_type": "markdown",
   "id": "36829ec1-667e-422c-8999-5a7d0bbef9ba",
   "metadata": {},
   "source": [
    "------->filter() is used to filter elements from an iterable based on a condition defined in a function. Only elements that return True from the function are included."
   ]
  },
  {
   "cell_type": "code",
   "execution_count": 35,
   "id": "76085ca0-19fa-4a28-b16f-9569f9aa9954",
   "metadata": {},
   "outputs": [
    {
     "name": "stdout",
     "output_type": "stream",
     "text": [
      "[52, 54, 34, 456]\n"
     ]
    }
   ],
   "source": [
    "numbers = [31, 52, 23, 54, 25,34,456,567]\n",
    "evens = filter(lambda x: x % 2 == 0, numbers)\n",
    "print(list(evens)) \n"
   ]
  },
  {
   "cell_type": "markdown",
   "id": "d845720c-c6da-4f80-b1e6-42cb905dd880",
   "metadata": {},
   "source": [
    "------->reduce() is used to apply a function cumulatively to the items of an iterable, from left to right, so as to reduce the iterable to a single value.\n",
    "we need to import it from \"functool\"\n"
   ]
  },
  {
   "cell_type": "code",
   "execution_count": 36,
   "id": "68032fa6-c597-445c-92d2-29ea8b2d05b2",
   "metadata": {},
   "outputs": [
    {
     "name": "stdout",
     "output_type": "stream",
     "text": [
      "24\n"
     ]
    }
   ],
   "source": [
    "from functools import reduce\n",
    "\n",
    "numbers = [1, 2, 3, 4]\n",
    "product = reduce(lambda x, y: x * y, numbers)\n",
    "print(product) "
   ]
  },
  {
   "cell_type": "code",
   "execution_count": null,
   "id": "884d7bb7-4cea-40cc-af8f-b2e84b33a043",
   "metadata": {},
   "outputs": [],
   "source": []
  },
  {
   "cell_type": "markdown",
   "id": "e49c7691-57f4-4032-9fe1-a9e37df0608d",
   "metadata": {},
   "source": [
    "#### 11. Using pen & Paper write the internal mechanism for sum operation using  reduce function on this given\n",
    "list:[47,11,42,13]; "
   ]
  },
  {
   "cell_type": "markdown",
   "id": "2c5f4e7a-3613-4c26-84b9-0448e3b8ea88",
   "metadata": {},
   "source": [
    "attached in doc."
   ]
  },
  {
   "cell_type": "code",
   "execution_count": null,
   "id": "8e0c018b-a74e-46f8-a3e7-45b6004b0033",
   "metadata": {},
   "outputs": [],
   "source": []
  },
  {
   "cell_type": "markdown",
   "id": "b0906997-fd99-467c-be3e-4dd40fa17133",
   "metadata": {},
   "source": [
    "## Practical Questions"
   ]
  },
  {
   "cell_type": "markdown",
   "id": "6fdc7b1a-345e-4d3f-9315-8c45d3843350",
   "metadata": {},
   "source": [
    "#### 1. Write a Python function that takes a list of numbers as input and returns the sum of all even numbers in the list."
   ]
  },
  {
   "cell_type": "code",
   "execution_count": 47,
   "id": "1b353f2b-3c90-48a4-86e3-a5dff30a6800",
   "metadata": {},
   "outputs": [],
   "source": [
    "def evensum(n):\n",
    "    a=0\n",
    "    for i in n:\n",
    "        if i%2 == 0:\n",
    "            a+=i\n",
    "    return a"
   ]
  },
  {
   "cell_type": "code",
   "execution_count": 49,
   "id": "6dca49aa-e295-4af9-839a-ef0fb985e3f8",
   "metadata": {},
   "outputs": [
    {
     "data": {
      "text/plain": [
       "944"
      ]
     },
     "execution_count": 49,
     "metadata": {},
     "output_type": "execute_result"
    }
   ],
   "source": [
    "x=[23,45,54,32,654,76,343,54,74,33]\n",
    "evensum(x)"
   ]
  },
  {
   "cell_type": "code",
   "execution_count": null,
   "id": "dbb333d0-23b8-451a-95b4-fa1f0a307fbe",
   "metadata": {},
   "outputs": [],
   "source": []
  },
  {
   "cell_type": "code",
   "execution_count": null,
   "id": "bf386f77-728d-49ac-b8f0-1cdcaf4d2b73",
   "metadata": {},
   "outputs": [],
   "source": []
  },
  {
   "cell_type": "markdown",
   "id": "8bb8ebb7-0387-4e82-a167-c961dc7eb2f9",
   "metadata": {},
   "source": [
    "#### 2. Create a Python function that accepts a string and returns the reverse of that string."
   ]
  },
  {
   "cell_type": "code",
   "execution_count": 59,
   "id": "5b8f58e4-5809-4ae5-82c8-0cc824ea1654",
   "metadata": {},
   "outputs": [],
   "source": [
    "def reverse(a):\n",
    "    return a[::-1]"
   ]
  },
  {
   "cell_type": "code",
   "execution_count": 60,
   "id": "bad63313-e157-49b7-b850-962b5004cf33",
   "metadata": {},
   "outputs": [
    {
     "data": {
      "text/plain": [
       "'sllikswp'"
      ]
     },
     "execution_count": 60,
     "metadata": {},
     "output_type": "execute_result"
    }
   ],
   "source": [
    "x=\"pwskills\"\n",
    "reverse(x)"
   ]
  },
  {
   "cell_type": "code",
   "execution_count": null,
   "id": "88f1c139-06d9-4bea-b72d-3ac9d732bca8",
   "metadata": {},
   "outputs": [],
   "source": []
  },
  {
   "cell_type": "markdown",
   "id": "609a3561-9657-4c43-8cc7-4709966f39f0",
   "metadata": {},
   "source": [
    "#### 3. Implement a Python function that takes a list of integers and returns a new list containing the squares of each number."
   ]
  },
  {
   "cell_type": "code",
   "execution_count": 70,
   "id": "ea8e8a7c-930f-442b-afad-944909f91594",
   "metadata": {},
   "outputs": [],
   "source": [
    "def square(a):\n",
    "    squared_no=[]\n",
    "    for i in a:\n",
    "       squared_no.append(i**2)\n",
    "    return squared_no"
   ]
  },
  {
   "cell_type": "code",
   "execution_count": 71,
   "id": "c16eb70a-cb9c-4df6-8c68-d6194dccf8fc",
   "metadata": {},
   "outputs": [
    {
     "data": {
      "text/plain": [
       "[9, 2916, 25, 9, 25, 49, 64, 4]"
      ]
     },
     "execution_count": 71,
     "metadata": {},
     "output_type": "execute_result"
    }
   ],
   "source": [
    "x=[3,54,5,3,5,7,8,2]\n",
    "square(x)"
   ]
  },
  {
   "cell_type": "code",
   "execution_count": null,
   "id": "a983a6df-daad-48a8-8299-28ad040dc174",
   "metadata": {},
   "outputs": [],
   "source": []
  },
  {
   "cell_type": "code",
   "execution_count": null,
   "id": "9776a057-04ac-406e-8990-5cfcdb26ac95",
   "metadata": {},
   "outputs": [],
   "source": []
  },
  {
   "cell_type": "markdown",
   "id": "9c0f36dd-fb1a-4e12-b8a6-e1a0c1f1bc61",
   "metadata": {},
   "source": [
    "#### 4. Write a Python function that checks if a given number is prime or not from 1 to 200."
   ]
  },
  {
   "cell_type": "code",
   "execution_count": 162,
   "id": "f0dd5ff3-f9d1-4559-b2f5-bebf315a7010",
   "metadata": {},
   "outputs": [],
   "source": [
    "def is_prime(number):\n",
    "    if number <= 1:\n",
    "        return False \n",
    "    for i in range(2, number):\n",
    "        if number % i == 0:\n",
    "            return False \n",
    "    return True  \n"
   ]
  },
  {
   "cell_type": "code",
   "execution_count": 167,
   "id": "755f8c9c-3b04-4158-b150-8618dd021fc3",
   "metadata": {},
   "outputs": [
    {
     "name": "stdout",
     "output_type": "stream",
     "text": [
      "[2, 3, 5, 7, 11, 13, 17, 19, 23, 29, 31, 37, 41, 43, 47, 53, 59, 61, 67, 71, 73, 79, 83, 89, 97, 101, 103, 107, 109, 113, 127, 131, 137, 139, 149, 151, 157, 163, 167, 173, 179, 181, 191, 193, 197, 199]\n"
     ]
    }
   ],
   "source": [
    "prime=[]\n",
    "for num in range(1, 201):\n",
    "    if is_prime(num):\n",
    "        prime.append(num)\n",
    "print(prime)\n"
   ]
  },
  {
   "cell_type": "code",
   "execution_count": 166,
   "id": "33f08a01-c355-4cbd-ad4b-8fb30d83af7d",
   "metadata": {},
   "outputs": [
    {
     "name": "stdout",
     "output_type": "stream",
     "text": [
      "2 is a prime number\n",
      "3 is a prime number\n",
      "5 is a prime number\n",
      "7 is a prime number\n",
      "11 is a prime number\n",
      "13 is a prime number\n",
      "17 is a prime number\n",
      "19 is a prime number\n",
      "23 is a prime number\n",
      "29 is a prime number\n",
      "31 is a prime number\n",
      "37 is a prime number\n",
      "41 is a prime number\n",
      "43 is a prime number\n",
      "47 is a prime number\n",
      "53 is a prime number\n",
      "59 is a prime number\n",
      "61 is a prime number\n",
      "67 is a prime number\n",
      "71 is a prime number\n",
      "73 is a prime number\n",
      "79 is a prime number\n",
      "83 is a prime number\n",
      "89 is a prime number\n",
      "97 is a prime number\n",
      "101 is a prime number\n",
      "103 is a prime number\n",
      "107 is a prime number\n",
      "109 is a prime number\n",
      "113 is a prime number\n",
      "127 is a prime number\n",
      "131 is a prime number\n",
      "137 is a prime number\n",
      "139 is a prime number\n",
      "149 is a prime number\n",
      "151 is a prime number\n",
      "157 is a prime number\n",
      "163 is a prime number\n",
      "167 is a prime number\n",
      "173 is a prime number\n",
      "179 is a prime number\n",
      "181 is a prime number\n",
      "191 is a prime number\n",
      "193 is a prime number\n",
      "197 is a prime number\n",
      "199 is a prime number\n"
     ]
    }
   ],
   "source": [
    "for num in range(1, 201):\n",
    "    if is_prime(num):\n",
    "        print(f\"{num} is a prime number\")\n"
   ]
  },
  {
   "cell_type": "code",
   "execution_count": null,
   "id": "820aa59c-499c-48c3-996b-b446497af741",
   "metadata": {},
   "outputs": [],
   "source": []
  },
  {
   "cell_type": "markdown",
   "id": "cb35226d-888f-4d32-8c78-3779203a6a6a",
   "metadata": {},
   "source": [
    "#### 5. Create an iterator class in Python that generates the Fibonacci sequence up to a specified number of terms."
   ]
  },
  {
   "cell_type": "code",
   "execution_count": 91,
   "id": "3082394a-e709-4e34-a179-85002eaefbb9",
   "metadata": {},
   "outputs": [],
   "source": [
    "class Fibonacci():\n",
    "    def __init__(self, limit):\n",
    "        self.limit = limit\n",
    "        self.count = 0\n",
    "        self.a = 0\n",
    "        self.b = 1\n",
    "\n",
    "    def __iter__(self):\n",
    "        return self\n",
    "\n",
    "    def __next__(self):\n",
    "        if self.count >= self.limit:\n",
    "            raise StopIteration\n",
    "        if self.count == 0:\n",
    "            self.count += 1\n",
    "            return self.a\n",
    "        elif self.count == 1:\n",
    "            self.count += 1\n",
    "            return self.b\n",
    "        else:\n",
    "            self.a, self.b = self.b, self.a + self.b\n",
    "            self.count += 1\n",
    "            return self.b\n"
   ]
  },
  {
   "cell_type": "code",
   "execution_count": 94,
   "id": "ca86ee35-c502-43be-a448-8684c7e83798",
   "metadata": {},
   "outputs": [
    {
     "name": "stdout",
     "output_type": "stream",
     "text": [
      "0 1 1 2 3 5 8 13 21 34 55 89 144 233 377 "
     ]
    }
   ],
   "source": [
    "fib = Fibonacci(15)  \n",
    "\n",
    "for number in fib:\n",
    "    print(number, end=' ')\n"
   ]
  },
  {
   "cell_type": "code",
   "execution_count": null,
   "id": "31ceb197-5c7c-46b1-a0e9-aaaef1dd07a6",
   "metadata": {},
   "outputs": [],
   "source": []
  },
  {
   "cell_type": "code",
   "execution_count": null,
   "id": "a8080fc0-700a-4333-a551-2fc61b212692",
   "metadata": {},
   "outputs": [],
   "source": []
  },
  {
   "cell_type": "markdown",
   "id": "fc504bdb-a88b-4f64-9f1d-2208c46b4591",
   "metadata": {},
   "source": [
    "#### 6. Write a generator function in Python that yields the powers of 2 up to a given exponent."
   ]
  },
  {
   "cell_type": "code",
   "execution_count": 107,
   "id": "42121421-be8f-4f93-8531-ea895a8a1e1c",
   "metadata": {},
   "outputs": [],
   "source": [
    "def power(n):\n",
    "    for i in range(n+1):\n",
    "        yield 2**i"
   ]
  },
  {
   "cell_type": "code",
   "execution_count": 123,
   "id": "5aa7ac69-a1e4-4c61-bb0b-deaae06d7d3c",
   "metadata": {},
   "outputs": [],
   "source": [
    "power(10)\n",
    "gen=power(10)"
   ]
  },
  {
   "cell_type": "code",
   "execution_count": 115,
   "id": "fcaf194c-119f-4166-8c9a-c26f0a433775",
   "metadata": {},
   "outputs": [
    {
     "data": {
      "text/plain": [
       "2"
      ]
     },
     "execution_count": 115,
     "metadata": {},
     "output_type": "execute_result"
    }
   ],
   "source": [
    "next(gen)"
   ]
  },
  {
   "cell_type": "code",
   "execution_count": 116,
   "id": "bbcd2d72-e49b-4ff8-9c99-a9b28688b0df",
   "metadata": {},
   "outputs": [
    {
     "data": {
      "text/plain": [
       "4"
      ]
     },
     "execution_count": 116,
     "metadata": {},
     "output_type": "execute_result"
    }
   ],
   "source": [
    "next(gen)"
   ]
  },
  {
   "cell_type": "code",
   "execution_count": 117,
   "id": "f1db872f-2155-4206-b33d-dfbfe04e2c5d",
   "metadata": {},
   "outputs": [
    {
     "data": {
      "text/plain": [
       "8"
      ]
     },
     "execution_count": 117,
     "metadata": {},
     "output_type": "execute_result"
    }
   ],
   "source": [
    "next(gen)"
   ]
  },
  {
   "cell_type": "code",
   "execution_count": 122,
   "id": "481f06cd-9e51-424c-af22-d72f44ad8bee",
   "metadata": {},
   "outputs": [
    {
     "name": "stdout",
     "output_type": "stream",
     "text": [
      "1\n",
      "2\n",
      "4\n",
      "8\n",
      "16\n",
      "32\n",
      "64\n",
      "128\n",
      "256\n",
      "512\n",
      "1024\n"
     ]
    }
   ],
   "source": [
    "for i in power(10):\n",
    "    print(i)"
   ]
  },
  {
   "cell_type": "code",
   "execution_count": null,
   "id": "d717ed61-be23-4a02-adf9-856e82cf8314",
   "metadata": {},
   "outputs": [],
   "source": []
  },
  {
   "cell_type": "code",
   "execution_count": null,
   "id": "e4841c4e-1d69-479f-b3ca-f4bef5d8c9ff",
   "metadata": {},
   "outputs": [],
   "source": []
  },
  {
   "cell_type": "markdown",
   "id": "14d96129-e102-4d29-84ee-464503088d1e",
   "metadata": {},
   "source": [
    "#### 7. Implement a generator function that reads a file line by line and yields each line as a string."
   ]
  },
  {
   "cell_type": "code",
   "execution_count": null,
   "id": "2aa062e0-234c-48de-b8e5-a16a8e6699a3",
   "metadata": {},
   "outputs": [],
   "source": [
    "def read_lines(file_name):\n",
    "    with open(file_name, 'r') as file:\n",
    "        for line in file:\n",
    "            yield line.strip()  # Removes \\n at the end\n",
    "\n",
    "            \n",
    "# Using the generator function\n",
    "for text in read_lines('file.txt'):\n",
    "    print(text)\n"
   ]
  },
  {
   "cell_type": "code",
   "execution_count": null,
   "id": "bfaaf064-91d5-4637-944f-05f3e13ae5b2",
   "metadata": {},
   "outputs": [],
   "source": []
  },
  {
   "cell_type": "code",
   "execution_count": null,
   "id": "60d100ae-5b30-4e6a-aba7-205e383d2a21",
   "metadata": {},
   "outputs": [],
   "source": []
  },
  {
   "cell_type": "markdown",
   "id": "560cfd8e-cbd7-430f-b4d6-65780a5cda5b",
   "metadata": {},
   "source": [
    "#### 8. Use a lambda function in Python to sort a list of tuples based on the second element of each tuple."
   ]
  },
  {
   "cell_type": "code",
   "execution_count": 128,
   "id": "7a16d1dd-fa1d-4c20-9710-61b5c37bbf51",
   "metadata": {},
   "outputs": [
    {
     "name": "stdout",
     "output_type": "stream",
     "text": [
      "[(61, 555), (766, 1876), (3654, 2676), (453, 8786)]\n"
     ]
    }
   ],
   "source": [
    "d = [(61, 555), (3654, 2676), (453, 8786), (766, 1876)]\n",
    "\n",
    "sorted_data = sorted(d, key=lambda x: x[1])\n",
    "\n",
    "print(sorted_data)\n"
   ]
  },
  {
   "cell_type": "code",
   "execution_count": null,
   "id": "83fd3549-8dc6-418c-ab1c-db1a3458bca9",
   "metadata": {},
   "outputs": [],
   "source": []
  },
  {
   "cell_type": "code",
   "execution_count": null,
   "id": "32022c2a-4632-4a32-b8de-b63c296195b2",
   "metadata": {},
   "outputs": [],
   "source": []
  },
  {
   "cell_type": "markdown",
   "id": "a9baf255-cce4-49fc-bb0e-7636f01ececc",
   "metadata": {},
   "source": [
    "#### 9. Write a Python program that uses `map()` to convert a list of temperatures from Celsius to Fahrenheit."
   ]
  },
  {
   "cell_type": "code",
   "execution_count": 151,
   "id": "e0ca6f11-ceb9-4356-ac76-4fd374fe1d37",
   "metadata": {},
   "outputs": [],
   "source": [
    "#F=C×(9/5)+32\n",
    "\n",
    "celsius = [12, 10, 25, 30, 40,100]\n",
    "\n",
    "Fahrenheit= list(map(lambda c:c*(9/5)+32 , celsius))"
   ]
  },
  {
   "cell_type": "code",
   "execution_count": 153,
   "id": "0286f7cd-c776-4229-93ea-f487abf2d899",
   "metadata": {},
   "outputs": [
    {
     "name": "stdout",
     "output_type": "stream",
     "text": [
      "[53.6, 50.0, 77.0, 86.0, 104.0, 212.0]\n"
     ]
    }
   ],
   "source": [
    "print(Fahrenheit)"
   ]
  },
  {
   "cell_type": "code",
   "execution_count": null,
   "id": "82b66260-2ade-46b7-a631-03d8a019797a",
   "metadata": {},
   "outputs": [],
   "source": []
  },
  {
   "cell_type": "code",
   "execution_count": null,
   "id": "9c0eb604-6b57-48cf-8e13-e5dc36c917c6",
   "metadata": {},
   "outputs": [],
   "source": []
  },
  {
   "cell_type": "markdown",
   "id": "d79eb2f0-df29-43a4-a39b-a3538281c434",
   "metadata": {},
   "source": [
    "#### 10. Create a Python program that uses `filter()` to remove all the vowels from a given string"
   ]
  },
  {
   "cell_type": "code",
   "execution_count": 156,
   "id": "c3d69013-ff85-45cb-beea-ce3ba880aecb",
   "metadata": {},
   "outputs": [
    {
     "name": "stdout",
     "output_type": "stream",
     "text": [
      "Original string:  Hello World, this is Garv !\n",
      "Without vowels :  Hll Wrld, ths s Grv !\n"
     ]
    }
   ],
   "source": [
    "def remove_vowels(input_string):\n",
    "    vowels = 'aeiouAEIOU'\n",
    "    result = ''.join(filter(lambda char: char not in vowels, input_string))\n",
    "    return result\n",
    "\n",
    "\n",
    "text = \"Hello World, this is Garv !\"\n",
    "no_vowels = remove_vowels(text)\n",
    "print(\"Original string: \", text)\n",
    "print(\"Without vowels : \", no_vowels)\n"
   ]
  },
  {
   "cell_type": "code",
   "execution_count": null,
   "id": "c9bee1b4-1d57-47a8-a5c7-361c25dd9b7b",
   "metadata": {},
   "outputs": [],
   "source": []
  },
  {
   "cell_type": "code",
   "execution_count": null,
   "id": "0ca27294-3385-486f-b970-8bdf89672a43",
   "metadata": {},
   "outputs": [],
   "source": []
  },
  {
   "cell_type": "markdown",
   "id": "12935186-4912-4074-b6ce-d568240098da",
   "metadata": {},
   "source": [
    "#### 11) Imagine an accounting routine used in a book shop. It works on a list with sublists, which look like this:\n",
    "#### orders = [ \n",
    "\n",
    "[34587, 'Learning Python, Mark Lutz', 4, 40.90],\n",
    "\n",
    "[98762, 'Programming Python, Mark Lutz', 5, 56.80],\n",
    "\n",
    "[77226, 'Head First Python, Paul Barry', 3, 32.95],\n",
    "\n",
    "[88112, 'Einfuhrung in Python3, Brend Klein', 3, 24.99]\n",
    "\n",
    "\n",
    "]\n",
    "\n",
    "#### Write a Python program, which returns a list with 2-tuples. Each tuple consists of the order number and the product of the price per item and the quantity. The product should be increased by 10,- € if the value of the order is smaller than 100,00 €.\n",
    "\n",
    "#### Write a Python program using lambda and map."
   ]
  },
  {
   "cell_type": "code",
   "execution_count": 157,
   "id": "6a7d5775-bf51-4060-bfd6-c39d917b53f4",
   "metadata": {},
   "outputs": [
    {
     "name": "stdout",
     "output_type": "stream",
     "text": [
      "[(34587, 163.6), (98762, 284.0), (77226, 108.85), (88112, 84.97)]\n"
     ]
    }
   ],
   "source": [
    "orders = [\n",
    "    [34587, 'Learning Python, Mark Lutz', 4, 40.90],\n",
    "    [98762, 'Programming Python, Mark Lutz', 5, 56.80],\n",
    "    [77226, 'Head First Python, Paul Barry', 3, 32.95],\n",
    "    [88112, 'Einfuhrung in Python3, Brend Klein', 3, 24.99]\n",
    "]\n",
    "\n",
    "# Using lambda and map\n",
    "final_orders = list(map(\n",
    "    lambda order: (\n",
    "        order[0],\n",
    "        round(order[2] * order[3] if order[2] * order[3] >= 100 \n",
    "              else order[2] * order[3] + 10, 2)\n",
    "    ),\n",
    "    orders\n",
    "))\n",
    "\n",
    "# Output result\n",
    "print(final_orders)\n"
   ]
  },
  {
   "cell_type": "code",
   "execution_count": null,
   "id": "18ac6e9a-e415-4bac-b2a7-24519178dd43",
   "metadata": {},
   "outputs": [],
   "source": []
  }
 ],
 "metadata": {
  "kernelspec": {
   "display_name": "Python 3 (ipykernel)",
   "language": "python",
   "name": "python3"
  },
  "language_info": {
   "codemirror_mode": {
    "name": "ipython",
    "version": 3
   },
   "file_extension": ".py",
   "mimetype": "text/x-python",
   "name": "python",
   "nbconvert_exporter": "python",
   "pygments_lexer": "ipython3",
   "version": "3.13.3"
  }
 },
 "nbformat": 4,
 "nbformat_minor": 5
}
